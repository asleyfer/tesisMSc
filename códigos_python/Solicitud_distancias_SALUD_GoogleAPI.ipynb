{
 "cells": [
  {
   "cell_type": "code",
   "execution_count": 1,
   "id": "9ba544e0",
   "metadata": {},
   "outputs": [],
   "source": [
    "import pandas as pd\n",
    "import numpy as np\n",
    "import requests\n",
    "import json\n",
    "import pandas as pd\n",
    "from itertools import tee"
   ]
  },
  {
   "cell_type": "code",
   "execution_count": 2,
   "id": "198f8517",
   "metadata": {},
   "outputs": [],
   "source": [
    "df = pd.read_csv(\"Clusters+vert_cercanos.csv\", delimiter=\",\")"
   ]
  },
  {
   "cell_type": "code",
   "execution_count": 6,
   "id": "3f460a74",
   "metadata": {},
   "outputs": [],
   "source": [
    "df_salud = pd.read_csv(\"salud_oficiales.csv\", delimiter=\";\")"
   ]
  },
  {
   "cell_type": "code",
   "execution_count": 7,
   "id": "76d85713",
   "metadata": {},
   "outputs": [
    {
     "data": {
      "text/html": [
       "<div>\n",
       "<style scoped>\n",
       "    .dataframe tbody tr th:only-of-type {\n",
       "        vertical-align: middle;\n",
       "    }\n",
       "\n",
       "    .dataframe tbody tr th {\n",
       "        vertical-align: top;\n",
       "    }\n",
       "\n",
       "    .dataframe thead th {\n",
       "        text-align: right;\n",
       "    }\n",
       "</style>\n",
       "<table border=\"1\" class=\"dataframe\">\n",
       "  <thead>\n",
       "    <tr style=\"text-align: right;\">\n",
       "      <th></th>\n",
       "      <th>Id</th>\n",
       "      <th>Latitud_salud</th>\n",
       "      <th>Longitud_salud</th>\n",
       "    </tr>\n",
       "  </thead>\n",
       "  <tbody>\n",
       "    <tr>\n",
       "      <th>0</th>\n",
       "      <td>1</td>\n",
       "      <td>4.148785</td>\n",
       "      <td>-73.640769</td>\n",
       "    </tr>\n",
       "    <tr>\n",
       "      <th>1</th>\n",
       "      <td>2</td>\n",
       "      <td>4.146686</td>\n",
       "      <td>-73.638377</td>\n",
       "    </tr>\n",
       "    <tr>\n",
       "      <th>2</th>\n",
       "      <td>3</td>\n",
       "      <td>4.148076</td>\n",
       "      <td>-73.629837</td>\n",
       "    </tr>\n",
       "    <tr>\n",
       "      <th>3</th>\n",
       "      <td>4</td>\n",
       "      <td>4.130986</td>\n",
       "      <td>-73.637647</td>\n",
       "    </tr>\n",
       "    <tr>\n",
       "      <th>4</th>\n",
       "      <td>5</td>\n",
       "      <td>4.137317</td>\n",
       "      <td>-73.584762</td>\n",
       "    </tr>\n",
       "    <tr>\n",
       "      <th>5</th>\n",
       "      <td>6</td>\n",
       "      <td>4.140172</td>\n",
       "      <td>-73.614969</td>\n",
       "    </tr>\n",
       "    <tr>\n",
       "      <th>6</th>\n",
       "      <td>7</td>\n",
       "      <td>4.082206</td>\n",
       "      <td>-73.670520</td>\n",
       "    </tr>\n",
       "    <tr>\n",
       "      <th>7</th>\n",
       "      <td>8</td>\n",
       "      <td>4.143366</td>\n",
       "      <td>-73.611154</td>\n",
       "    </tr>\n",
       "    <tr>\n",
       "      <th>8</th>\n",
       "      <td>9</td>\n",
       "      <td>4.146870</td>\n",
       "      <td>-73.639049</td>\n",
       "    </tr>\n",
       "    <tr>\n",
       "      <th>9</th>\n",
       "      <td>10</td>\n",
       "      <td>4.144748</td>\n",
       "      <td>-73.636807</td>\n",
       "    </tr>\n",
       "    <tr>\n",
       "      <th>10</th>\n",
       "      <td>11</td>\n",
       "      <td>4.148395</td>\n",
       "      <td>-73.639409</td>\n",
       "    </tr>\n",
       "    <tr>\n",
       "      <th>11</th>\n",
       "      <td>12</td>\n",
       "      <td>4.144495</td>\n",
       "      <td>-73.643753</td>\n",
       "    </tr>\n",
       "    <tr>\n",
       "      <th>12</th>\n",
       "      <td>13</td>\n",
       "      <td>4.142107</td>\n",
       "      <td>-73.640478</td>\n",
       "    </tr>\n",
       "  </tbody>\n",
       "</table>\n",
       "</div>"
      ],
      "text/plain": [
       "    Id  Latitud_salud  Longitud_salud\n",
       "0    1       4.148785      -73.640769\n",
       "1    2       4.146686      -73.638377\n",
       "2    3       4.148076      -73.629837\n",
       "3    4       4.130986      -73.637647\n",
       "4    5       4.137317      -73.584762\n",
       "5    6       4.140172      -73.614969\n",
       "6    7       4.082206      -73.670520\n",
       "7    8       4.143366      -73.611154\n",
       "8    9       4.146870      -73.639049\n",
       "9   10       4.144748      -73.636807\n",
       "10  11       4.148395      -73.639409\n",
       "11  12       4.144495      -73.643753\n",
       "12  13       4.142107      -73.640478"
      ]
     },
     "execution_count": 7,
     "metadata": {},
     "output_type": "execute_result"
    }
   ],
   "source": [
    "df_salud"
   ]
  },
  {
   "cell_type": "code",
   "execution_count": 9,
   "id": "c35e8f7a",
   "metadata": {},
   "outputs": [],
   "source": [
    "array_id=df_salud.Id.values"
   ]
  },
  {
   "cell_type": "code",
   "execution_count": 10,
   "id": "70bed271",
   "metadata": {},
   "outputs": [],
   "source": [
    "df2=df.copy(deep=True)"
   ]
  },
  {
   "cell_type": "code",
   "execution_count": 11,
   "id": "042c717f",
   "metadata": {},
   "outputs": [],
   "source": [
    "for col_name in array_id:\n",
    "    df2[col_name] = None"
   ]
  },
  {
   "cell_type": "code",
   "execution_count": 1,
   "id": "53509b95",
   "metadata": {},
   "outputs": [],
   "source": [
    "#Se quita por motivos de seguridad\n",
    "key_API_google=\"\""
   ]
  },
  {
   "cell_type": "code",
   "execution_count": 32,
   "id": "8b238c95",
   "metadata": {},
   "outputs": [
    {
     "data": {
      "text/plain": [
       "array(['4.124%2C-73.6275454', '4.119%2C-73.5636471',\n",
       "       '4.075%2C-73.6728906', '4.153%2C-73.5996511',\n",
       "       '4.148%2C-73.6134169', '4.105%2C-73.6536067',\n",
       "       '4.139%2C-73.6380005', '4.119%2C-73.5957982',\n",
       "       '4.121%2C-73.5359964', '4.162%2C-73.6515145', '4.142%2C-73.584213',\n",
       "       '4.059%2C-73.5065333', '4.057%2C-73.5978414',\n",
       "       '4.129%2C-73.6121361', '4.08%2C-73.6977025', '4.08%2C-73.6977025',\n",
       "       '4.105%2C-73.6235328', '4.152%2C-73.6309116',\n",
       "       '4.122%2C-73.6466873', '4.06%2C-73.672994', '4.125%2C-73.5480865',\n",
       "       '4.079%2C-73.669394', '4.134%2C-73.620181', '4.132%2C-73.5908129',\n",
       "       '4.104%2C-73.6451339', '4.171%2C-73.6267121',\n",
       "       '4.139%2C-73.6155055', '4.09%2C-73.6658954', '4.13%2C-73.6294962',\n",
       "       '4.115%2C-73.5847557', '4.143%2C-73.6513258', '4.088%2C-73.557992',\n",
       "       '4.147%2C-73.6276148', '4.158%2C-73.6352046', '4.148%2C-73.637265',\n",
       "       '4.11%2C-73.6625676', '4.152%2C-73.6224157', '4.119%2C-73.6274064',\n",
       "       '4.145%2C-73.6099501', '4.114%2C-73.6115679', '4.1%2C-73.6375405',\n",
       "       '4.147%2C-73.5897279', '4.149%2C-73.607362', '4.17%2C-73.6794341',\n",
       "       '4.114%2C-73.5573386', '4.128%2C-73.635985', '4.121%2C-73.5643217',\n",
       "       '4.136%2C-73.6061494', '4.134%2C-73.5868751',\n",
       "       '4.082%2C-73.6629436', '4.101%2C-73.6521891', '4.13%2C-73.586433',\n",
       "       '4.15%2C-73.5850761', '4.16%2C-73.6422279', '4.076%2C-73.5850679',\n",
       "       '4.149%2C-73.642157', '4.156%2C-73.6555432', '4.111%2C-73.4876677',\n",
       "       '4.128%2C-73.6168863', '4.134%2C-73.6292559',\n",
       "       '4.102%2C-73.6161527', '4.123%2C-73.6345245',\n",
       "       '4.107%2C-73.6590331', '4.153%2C-73.6144166',\n",
       "       '4.125%2C-73.6529163', '4.112%2C-73.6154955',\n",
       "       '4.086%2C-73.6586068', '4.139%2C-73.6236797',\n",
       "       '4.072%2C-73.6701186', '4.134%2C-73.6122564',\n",
       "       '4.118%2C-73.5918369', '4.127%2C-73.5453156',\n",
       "       '4.099%2C-73.6575429', '4.068%2C-73.6648733', '4.159%2C-73.661757',\n",
       "       '4.075%2C-73.6809491', '4.131%2C-73.632842', '4.156%2C-73.6283836',\n",
       "       '4.18%2C-73.6154701', '4.148%2C-73.624028', '4.146%2C-73.6049568',\n",
       "       '4.057%2C-73.6761918', '4.12%2C-73.6228557', '4.11%2C-73.6314748',\n",
       "       '4.146%2C-73.6166677', '4.14%2C-73.632228', '4.124%2C-73.5430196',\n",
       "       '4.167%2C-73.6309645', '4.119%2C-73.5989691',\n",
       "       '4.099%2C-73.6445745', '4.14%2C-73.5880036', '4.078%2C-73.6763006',\n",
       "       '4.076%2C-73.6984781', '4.106%2C-73.6477407', '4.139%2C-73.643442',\n",
       "       '4.15%2C-73.5815366', '4.16%2C-73.6549974', '4.128%2C-73.6262519',\n",
       "       '4.151%2C-73.594476', '4.068%2C-73.6713791', '4.141%2C-73.6076005',\n",
       "       '4.122%2C-73.5336153', '4.147%2C-73.6318068',\n",
       "       '4.106%2C-73.5919447', '4.078%2C-73.5659291', '4.137%2C-73.64747',\n",
       "       '4.151%2C-73.6185198', '4.101%2C-73.6297252',\n",
       "       '4.114%2C-73.6237501', '4.12%2C-73.5608965', '4.116%2C-73.6063117',\n",
       "       '4.172%2C-73.6395288', '4.142%2C-73.6174541',\n",
       "       '4.095%2C-73.5587896', '4.115%2C-73.5876902',\n",
       "       '4.131%2C-73.6010573', '4.123%2C-73.6251484',\n",
       "       '4.085%2C-73.6132737', '4.166%2C-73.6216582',\n",
       "       '4.083%2C-73.6676645', '4.13%2C-73.6187202', '4.131%2C-73.609201',\n",
       "       '4.157%2C-73.6460212', '4.135%2C-73.6336252',\n",
       "       '4.105%2C-73.5592605', '4.13%2C-73.5488419', '4.108%2C-73.6516835',\n",
       "       '4.118%2C-73.6514372', '4.161%2C-73.638731', '4.131%2C-73.6553254',\n",
       "       '4.145%2C-73.586399', '4.144%2C-73.640455', '4.142%2C-73.612037',\n",
       "       '4.152%2C-73.6069889', '4.14%2C-73.5814178', '4.151%2C-73.6588669',\n",
       "       '4.153%2C-73.6352984', '4.119%2C-73.6317149',\n",
       "       '4.155%2C-73.5729182', '4.143%2C-73.6231852', '4.084%2C-73.678325',\n",
       "       '4.112%2C-73.6403918', '4.126%2C-73.565589', '4.116%2C-73.5976838',\n",
       "       '4.124%2C-73.6212868', '4.155%2C-73.6390827',\n",
       "       '4.103%2C-73.6493155', '4.099%2C-73.6491179',\n",
       "       '4.125%2C-73.6324203', '4.119%2C-73.5854603',\n",
       "       '4.064%2C-73.6692122', '4.151%2C-73.590926', '4.147%2C-73.6448911',\n",
       "       '4.097%2C-73.6636198', '4.136%2C-73.6007407',\n",
       "       '4.133%2C-73.6168266', '4.092%2C-73.621898', '4.161%2C-73.6469399',\n",
       "       '4.13%2C-73.5689459', '4.057%2C-73.6727214', '4.068%2C-73.592375',\n",
       "       '4.076%2C-73.6683629', '4.048%2C-73.5998047',\n",
       "       '4.142%2C-73.6279099', '4.151%2C-73.6277653',\n",
       "       '4.106%2C-73.6625735', '4.079%2C-73.6726718',\n",
       "       '4.127%2C-73.6296953', '4.139%2C-73.5850484', '4.126%2C-73.614989',\n",
       "       '4.136%2C-73.5909467', '4.083%2C-73.6714977',\n",
       "       '4.125%2C-73.5866913', '4.116%2C-73.5610332',\n",
       "       '4.143%2C-73.6356982', '4.136%2C-73.6398272', '4.18%2C-73.6422546',\n",
       "       '4.129%2C-73.589943', '4.069%2C-73.6679189', '4.173%2C-73.6220777',\n",
       "       '4.137%2C-73.6128643', '4.116%2C-73.6175571',\n",
       "       '4.129%2C-73.6445915', '4.133%2C-73.6364839',\n",
       "       '4.131%2C-73.6210499', '4.15%2C-73.6164229', '4.153%2C-73.6022736',\n",
       "       '4.126%2C-73.5628277', '4.091%2C-73.6339332',\n",
       "       '4.122%2C-73.5391531', '4.135%2C-73.623648', '4.137%2C-73.6172913',\n",
       "       '4.123%2C-73.6304113', '4.154%2C-73.6196932',\n",
       "       '4.149%2C-73.6202722', '4.158%2C-73.6511635',\n",
       "       '4.103%2C-73.6598412', '4.156%2C-73.632766', '4.136%2C-73.609601',\n",
       "       '4.12%2C-73.6093989'], dtype='<U19')"
      ]
     },
     "execution_count": 32,
     "metadata": {},
     "output_type": "execute_result"
    }
   ],
   "source": [
    "origenes"
   ]
  },
  {
   "cell_type": "code",
   "execution_count": 29,
   "id": "fbadc5d6",
   "metadata": {},
   "outputs": [],
   "source": [
    "df2[\"concat\"]=df2['LATITUD'].astype(str)+\"%2C\"+df2['LONGITUD'].astype(str)"
   ]
  },
  {
   "cell_type": "code",
   "execution_count": 31,
   "id": "2d43f56c",
   "metadata": {},
   "outputs": [],
   "source": [
    "origenes= np.array(df2[\"concat\"].to_list())"
   ]
  },
  {
   "cell_type": "code",
   "execution_count": 33,
   "id": "573cc239",
   "metadata": {},
   "outputs": [],
   "source": [
    "destinos = [row['Latitud_salud'].astype(str)+\"%2C\"+row['Longitud_salud'].astype(str) for index, row in df_salud.iterrows()]"
   ]
  },
  {
   "cell_type": "code",
   "execution_count": 34,
   "id": "891b4414",
   "metadata": {
    "scrolled": true
   },
   "outputs": [
    {
     "data": {
      "text/plain": [
       "['4.148784842%2C-73.6407691',\n",
       " '4.146685729%2C-73.6383766',\n",
       " '4.148075569%2C-73.6298372',\n",
       " '4.130985509%2C-73.6376471',\n",
       " '4.137317344%2C-73.5847618',\n",
       " '4.140172335%2C-73.6149691',\n",
       " '4.082205846%2C-73.6705198',\n",
       " '4.143365657%2C-73.6111542',\n",
       " '4.14686996%2C-73.6390494',\n",
       " '4.14474753%2C-73.636807',\n",
       " '4.148395049%2C-73.6394091',\n",
       " '4.144495281%2C-73.6437534',\n",
       " '4.14210669%2C-73.640478']"
      ]
     },
     "execution_count": 34,
     "metadata": {},
     "output_type": "execute_result"
    }
   ],
   "source": [
    "destinos"
   ]
  },
  {
   "cell_type": "code",
   "execution_count": 38,
   "id": "993b9857",
   "metadata": {},
   "outputs": [],
   "source": [
    "todas_solicitudes=[]\n",
    "for i in range(len(origenes)):\n",
    "    solicitudes=[]\n",
    "    for j in range(len(destinos)):\n",
    "        solicitud=\"https://maps.googleapis.com/maps/api/distancematrix/json?destinations=\"+destinos[j]+\"&origins=\"+origenes[i]+\"&key=\"+key_API_google\n",
    "        solicitudes.append(solicitud)\n",
    "    todas_solicitudes.append(solicitudes)"
   ]
  },
  {
   "cell_type": "code",
   "execution_count": 40,
   "id": "849b44b1",
   "metadata": {},
   "outputs": [],
   "source": [
    "todas_solicitudes2 = pd.DataFrame(todas_solicitudes)"
   ]
  },
  {
   "cell_type": "code",
   "execution_count": 43,
   "id": "76f401d6",
   "metadata": {},
   "outputs": [],
   "source": [
    "def solicitud_maps(url):\n",
    "    try:\n",
    "        payload = {}\n",
    "        headers = {}\n",
    "        response = requests.request(\"GET\", url, headers=headers, data=payload)\n",
    "        x = response.json()\n",
    "        drive_time_seconds = x['rows'][0]['elements'][0]['duration']['value']\n",
    "        distance_meters = x['rows'][0]['elements'][0]['distance']['value']\n",
    "        return [drive_time_seconds, distance_meters]\n",
    "    except KeyError:\n",
    "        return 0"
   ]
  },
  {
   "cell_type": "code",
   "execution_count": 45,
   "id": "ff929caa",
   "metadata": {},
   "outputs": [],
   "source": [
    "df2[0] = todas_solicitudes2.apply(lambda x: solicitud_maps(x[0]), axis=1)\n"
   ]
  },
  {
   "cell_type": "code",
   "execution_count": 49,
   "id": "b35cc7f9",
   "metadata": {},
   "outputs": [],
   "source": [
    "df2[2] = todas_solicitudes2.apply(lambda x: solicitud_maps(x[1]), axis=1)\n",
    "df2[3] = todas_solicitudes2.apply(lambda x: solicitud_maps(x[2]), axis=1)\n",
    "df2[4] = todas_solicitudes2.apply(lambda x: solicitud_maps(x[3]), axis=1)\n",
    "df2[5] = todas_solicitudes2.apply(lambda x: solicitud_maps(x[4]), axis=1)\n",
    "df2[6] = todas_solicitudes2.apply(lambda x: solicitud_maps(x[5]), axis=1)\n",
    "df2[7] = todas_solicitudes2.apply(lambda x: solicitud_maps(x[6]), axis=1)\n",
    "df2[8] = todas_solicitudes2.apply(lambda x: solicitud_maps(x[7]), axis=1)\n",
    "df2[9] = todas_solicitudes2.apply(lambda x: solicitud_maps(x[8]), axis=1)\n",
    "df2[10] = todas_solicitudes2.apply(lambda x: solicitud_maps(x[9]), axis=1)\n",
    "df2[11] = todas_solicitudes2.apply(lambda x: solicitud_maps(x[10]), axis=1)\n",
    "df2[12] = todas_solicitudes2.apply(lambda x: solicitud_maps(x[11]), axis=1)\n"
   ]
  },
  {
   "cell_type": "code",
   "execution_count": 51,
   "id": "a72310bd",
   "metadata": {},
   "outputs": [],
   "source": [
    "df2[13] = todas_solicitudes2.apply(lambda x: solicitud_maps(x[12]), axis=1)\n"
   ]
  },
  {
   "cell_type": "code",
   "execution_count": 53,
   "id": "7ff1672a",
   "metadata": {},
   "outputs": [],
   "source": [
    "df3=df2.copy(deep=True)"
   ]
  },
  {
   "cell_type": "code",
   "execution_count": 54,
   "id": "29c0a35b",
   "metadata": {},
   "outputs": [],
   "source": [
    "df3 = df3.drop(array_id, axis=1)"
   ]
  },
  {
   "cell_type": "code",
   "execution_count": 55,
   "id": "49705e8e",
   "metadata": {},
   "outputs": [],
   "source": [
    "for col in array_id:\n",
    "    df3[col] = df2[col].apply(lambda x: x[0])"
   ]
  },
  {
   "cell_type": "code",
   "execution_count": 56,
   "id": "76dbbc4f",
   "metadata": {},
   "outputs": [],
   "source": [
    "df3.to_csv(\"TIEMPOS_VIAJE_SEG_CLUSTERS_SALUD.csv\",index=True)"
   ]
  },
  {
   "cell_type": "code",
   "execution_count": 57,
   "id": "7d998c41",
   "metadata": {},
   "outputs": [],
   "source": [
    "df4=df2.copy(deep=True)"
   ]
  },
  {
   "cell_type": "code",
   "execution_count": 58,
   "id": "10cb4eae",
   "metadata": {},
   "outputs": [],
   "source": [
    "df4 = df4.drop(array_id, axis=1)"
   ]
  },
  {
   "cell_type": "code",
   "execution_count": 59,
   "id": "f3f32438",
   "metadata": {},
   "outputs": [],
   "source": [
    "for col in array_id:\n",
    "    df4[col] = df2[col].apply(lambda x: x[1])"
   ]
  },
  {
   "cell_type": "code",
   "execution_count": 60,
   "id": "4627db1d",
   "metadata": {},
   "outputs": [],
   "source": [
    "df4.to_csv(\"DISTANCIAS_METROS_CLUSTERS_SALUD.csv\",index=True)"
   ]
  }
 ],
 "metadata": {
  "kernelspec": {
   "display_name": "Python 3",
   "language": "python",
   "name": "python3"
  },
  "language_info": {
   "codemirror_mode": {
    "name": "ipython",
    "version": 3
   },
   "file_extension": ".py",
   "mimetype": "text/x-python",
   "name": "python",
   "nbconvert_exporter": "python",
   "pygments_lexer": "ipython3",
   "version": "3.8.8"
  }
 },
 "nbformat": 4,
 "nbformat_minor": 5
}
