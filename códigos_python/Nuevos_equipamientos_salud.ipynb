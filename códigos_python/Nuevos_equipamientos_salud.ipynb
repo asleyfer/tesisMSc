{
 "cells": [
  {
   "cell_type": "code",
   "execution_count": 1,
   "id": "047bdbe2",
   "metadata": {},
   "outputs": [],
   "source": [
    "import pandas as pd\n",
    "import numpy as np\n",
    "import requests\n",
    "import json\n",
    "import pandas as pd\n",
    "from itertools import tee"
   ]
  },
  {
   "cell_type": "code",
   "execution_count": 2,
   "id": "1a8c7262",
   "metadata": {},
   "outputs": [],
   "source": [
    "df = pd.read_csv(\"TIEMPOS_VIAJE_SEG_CLUSTERS_SALUD.csv\", delimiter=\",\")"
   ]
  },
  {
   "cell_type": "code",
   "execution_count": 4,
   "id": "df8a5cfb",
   "metadata": {},
   "outputs": [],
   "source": [
    "df_nuevos_salud = pd.read_csv(\"Nuevos_salud.csv\", delimiter=\";\")"
   ]
  },
  {
   "cell_type": "code",
   "execution_count": 53,
   "id": "ec4d16a8",
   "metadata": {},
   "outputs": [
    {
     "data": {
      "text/html": [
       "<div>\n",
       "<style scoped>\n",
       "    .dataframe tbody tr th:only-of-type {\n",
       "        vertical-align: middle;\n",
       "    }\n",
       "\n",
       "    .dataframe tbody tr th {\n",
       "        vertical-align: top;\n",
       "    }\n",
       "\n",
       "    .dataframe thead th {\n",
       "        text-align: right;\n",
       "    }\n",
       "</style>\n",
       "<table border=\"1\" class=\"dataframe\">\n",
       "  <thead>\n",
       "    <tr style=\"text-align: right;\">\n",
       "      <th></th>\n",
       "      <th>id</th>\n",
       "      <th>Name</th>\n",
       "      <th>Latitud</th>\n",
       "      <th>Longitud</th>\n",
       "      <th>concat</th>\n",
       "    </tr>\n",
       "  </thead>\n",
       "  <tbody>\n",
       "    <tr>\n",
       "      <th>0</th>\n",
       "      <td>14</td>\n",
       "      <td>Equipamiento potencial 1</td>\n",
       "      <td>4.119692</td>\n",
       "      <td>-73.620595</td>\n",
       "      <td>4.119692117%2C-73.62059494</td>\n",
       "    </tr>\n",
       "    <tr>\n",
       "      <th>1</th>\n",
       "      <td>15</td>\n",
       "      <td>Equipamiento potencial 2</td>\n",
       "      <td>4.124112</td>\n",
       "      <td>-73.617205</td>\n",
       "      <td>4.124111665%2C-73.61720463</td>\n",
       "    </tr>\n",
       "    <tr>\n",
       "      <th>2</th>\n",
       "      <td>16</td>\n",
       "      <td>Equipamiento potencial 3</td>\n",
       "      <td>4.128911</td>\n",
       "      <td>-73.608692</td>\n",
       "      <td>4.12891072%2C-73.60869169</td>\n",
       "    </tr>\n",
       "    <tr>\n",
       "      <th>3</th>\n",
       "      <td>17</td>\n",
       "      <td>Equipamiento potencial 4</td>\n",
       "      <td>4.126492</td>\n",
       "      <td>-73.619860</td>\n",
       "      <td>4.126492293%2C-73.61986041</td>\n",
       "    </tr>\n",
       "    <tr>\n",
       "      <th>4</th>\n",
       "      <td>18</td>\n",
       "      <td>Equipamiento potencial 5</td>\n",
       "      <td>4.107019</td>\n",
       "      <td>-73.655174</td>\n",
       "      <td>4.107019258%2C-73.65517375</td>\n",
       "    </tr>\n",
       "  </tbody>\n",
       "</table>\n",
       "</div>"
      ],
      "text/plain": [
       "   id                      Name   Latitud   Longitud  \\\n",
       "0  14  Equipamiento potencial 1  4.119692 -73.620595   \n",
       "1  15  Equipamiento potencial 2  4.124112 -73.617205   \n",
       "2  16  Equipamiento potencial 3  4.128911 -73.608692   \n",
       "3  17  Equipamiento potencial 4  4.126492 -73.619860   \n",
       "4  18  Equipamiento potencial 5  4.107019 -73.655174   \n",
       "\n",
       "                       concat  \n",
       "0  4.119692117%2C-73.62059494  \n",
       "1  4.124111665%2C-73.61720463  \n",
       "2   4.12891072%2C-73.60869169  \n",
       "3  4.126492293%2C-73.61986041  \n",
       "4  4.107019258%2C-73.65517375  "
      ]
     },
     "execution_count": 53,
     "metadata": {},
     "output_type": "execute_result"
    }
   ],
   "source": [
    "df_nuevos_salud"
   ]
  },
  {
   "cell_type": "code",
   "execution_count": 13,
   "id": "0acc1d8c",
   "metadata": {},
   "outputs": [],
   "source": [
    "array_nuevos_salud=df_nuevos_salud[\"id\"].values"
   ]
  },
  {
   "cell_type": "code",
   "execution_count": 14,
   "id": "3dfc9e18",
   "metadata": {},
   "outputs": [
    {
     "data": {
      "text/plain": [
       "array([14, 15, 16, 17, 18], dtype=int64)"
      ]
     },
     "execution_count": 14,
     "metadata": {},
     "output_type": "execute_result"
    }
   ],
   "source": [
    "array_nuevos_salud"
   ]
  },
  {
   "cell_type": "code",
   "execution_count": 39,
   "id": "47ac851d",
   "metadata": {},
   "outputs": [],
   "source": [
    "for col_name in array_nuevos_salud:\n",
    "    df[col_name] = None"
   ]
  },
  {
   "cell_type": "code",
   "execution_count": 1,
   "id": "d0c2c34a",
   "metadata": {},
   "outputs": [],
   "source": [
    "#Se quita por motivos de seguridad\n",
    "key_API_google=\"\" "
   ]
  },
  {
   "cell_type": "code",
   "execution_count": 50,
   "id": "160a9abb",
   "metadata": {},
   "outputs": [],
   "source": [
    "df[\"concat\"]=df['LATITUD'].astype(str)+\"%2C\"+df['LONGITUD'].astype(str)"
   ]
  },
  {
   "cell_type": "code",
   "execution_count": 51,
   "id": "64d44d3f",
   "metadata": {},
   "outputs": [],
   "source": [
    "origenes= np.array(df[\"concat\"].to_list())"
   ]
  },
  {
   "cell_type": "code",
   "execution_count": 52,
   "id": "639d4c48",
   "metadata": {},
   "outputs": [],
   "source": [
    "df_nuevos_salud[\"concat\"]=df_nuevos_salud['Latitud'].astype(str)+\"%2C\"+df_nuevos_salud['Longitud'].astype(str)"
   ]
  },
  {
   "cell_type": "code",
   "execution_count": 54,
   "id": "4538fbda",
   "metadata": {},
   "outputs": [],
   "source": [
    "destinos=np.array(df_nuevos_salud[\"concat\"].to_list())"
   ]
  },
  {
   "cell_type": "code",
   "execution_count": 55,
   "id": "872ed755",
   "metadata": {},
   "outputs": [],
   "source": [
    "todas_solicitudes=[]\n",
    "for i in range(len(origenes)):\n",
    "    solicitudes=[]\n",
    "    for j in range(len(destinos)):\n",
    "        solicitud=\"https://maps.googleapis.com/maps/api/distancematrix/json?destinations=\"+destinos[j]+\"&origins=\"+origenes[i]+\"&key=\"+key_API_google\n",
    "        solicitudes.append(solicitud)\n",
    "    todas_solicitudes.append(solicitudes)"
   ]
  },
  {
   "cell_type": "code",
   "execution_count": 58,
   "id": "bbe2b2ef",
   "metadata": {},
   "outputs": [],
   "source": [
    "todas_solicitudes2 = pd.DataFrame(todas_solicitudes)"
   ]
  },
  {
   "cell_type": "code",
   "execution_count": 59,
   "id": "9d27c671",
   "metadata": {},
   "outputs": [],
   "source": [
    "def solicitud_maps(url):\n",
    "    try:\n",
    "        payload = {}\n",
    "        headers = {}\n",
    "        response = requests.request(\"GET\", url, headers=headers, data=payload)\n",
    "        x = response.json()\n",
    "        drive_time_seconds = x['rows'][0]['elements'][0]['duration']['value']\n",
    "        distance_meters = x['rows'][0]['elements'][0]['distance']['value']\n",
    "        return [drive_time_seconds, distance_meters]\n",
    "    except KeyError:\n",
    "        return 0"
   ]
  },
  {
   "cell_type": "code",
   "execution_count": 60,
   "id": "9657c81c",
   "metadata": {},
   "outputs": [],
   "source": [
    "df[\"14\"] = todas_solicitudes2.apply(lambda x: solicitud_maps(x[0]), axis=1)"
   ]
  },
  {
   "cell_type": "code",
   "execution_count": 62,
   "id": "43cc7bf7",
   "metadata": {},
   "outputs": [],
   "source": [
    "df[\"15\"] = todas_solicitudes2.apply(lambda x: solicitud_maps(x[1]), axis=1)\n",
    "df[\"16\"] = todas_solicitudes2.apply(lambda x: solicitud_maps(x[2]), axis=1)\n",
    "df[\"17\"] = todas_solicitudes2.apply(lambda x: solicitud_maps(x[3]), axis=1)\n",
    "df[\"18\"] = todas_solicitudes2.apply(lambda x: solicitud_maps(x[4]), axis=1)"
   ]
  },
  {
   "cell_type": "code",
   "execution_count": 64,
   "id": "17f40099",
   "metadata": {},
   "outputs": [],
   "source": [
    "df.to_csv(\"FINAL_tiempos_distancia_saludnuevos.csv\",index=True)"
   ]
  },
  {
   "cell_type": "code",
   "execution_count": 65,
   "id": "e4140ac6",
   "metadata": {},
   "outputs": [],
   "source": [
    "df2=df.copy(deep=True)"
   ]
  },
  {
   "cell_type": "code",
   "execution_count": 67,
   "id": "4f73784b",
   "metadata": {},
   "outputs": [
    {
     "data": {
      "text/plain": [
       "array([14, 15, 16, 17, 18], dtype=int64)"
      ]
     },
     "execution_count": 67,
     "metadata": {},
     "output_type": "execute_result"
    }
   ],
   "source": [
    "array_nuevos_salud"
   ]
  },
  {
   "cell_type": "code",
   "execution_count": 71,
   "id": "33c7c7c8",
   "metadata": {},
   "outputs": [],
   "source": [
    "df2[\"15\"] = df2[\"15\"].apply(lambda x: x[0])"
   ]
  },
  {
   "cell_type": "code",
   "execution_count": 74,
   "id": "d1f8ca81",
   "metadata": {},
   "outputs": [],
   "source": [
    "df2[\"14\"] = df2[\"14\"] .apply(lambda x: x[0])\n",
    "df2[\"16\"] = df2[\"16\"] .apply(lambda x: x[0])\n",
    "df2[\"17\"] = df2[\"17\"] .apply(lambda x: x[0])\n",
    "df2[\"18\"] = df2[\"18\"] .apply(lambda x: x[0])"
   ]
  },
  {
   "cell_type": "code",
   "execution_count": 76,
   "id": "ce63cb2a",
   "metadata": {},
   "outputs": [],
   "source": [
    "df2.to_csv(\"TIEMPOS_VIAJE_SEG_CLUSTERS_SALUDNUEVOS.csv\",index=True)"
   ]
  }
 ],
 "metadata": {
  "kernelspec": {
   "display_name": "Python 3",
   "language": "python",
   "name": "python3"
  },
  "language_info": {
   "codemirror_mode": {
    "name": "ipython",
    "version": 3
   },
   "file_extension": ".py",
   "mimetype": "text/x-python",
   "name": "python",
   "nbconvert_exporter": "python",
   "pygments_lexer": "ipython3",
   "version": "3.8.8"
  }
 },
 "nbformat": 4,
 "nbformat_minor": 5
}
