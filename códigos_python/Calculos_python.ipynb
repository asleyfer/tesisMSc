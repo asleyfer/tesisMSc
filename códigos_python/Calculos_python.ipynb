{
 "cells": [
  {
   "cell_type": "code",
   "execution_count": 1,
   "id": "7bfc4bd6",
   "metadata": {},
   "outputs": [],
   "source": [
    "#Importar librerias para procesamiento de datos\n",
    "\n",
    "import pandas as pd\n",
    "import numpy as np"
   ]
  },
  {
   "cell_type": "code",
   "execution_count": 2,
   "id": "2889d656",
   "metadata": {},
   "outputs": [],
   "source": [
    "from scipy.spatial import KDTree"
   ]
  },
  {
   "cell_type": "code",
   "execution_count": 3,
   "id": "2c640bfa",
   "metadata": {},
   "outputs": [],
   "source": [
    "from numpy import cos, sin, arcsin, sqrt\n",
    "from math import radians"
   ]
  },
  {
   "cell_type": "code",
   "execution_count": 18,
   "id": "d9e84fe1",
   "metadata": {},
   "outputs": [
    {
     "data": {
      "text/html": [
       "<div>\n",
       "<style scoped>\n",
       "    .dataframe tbody tr th:only-of-type {\n",
       "        vertical-align: middle;\n",
       "    }\n",
       "\n",
       "    .dataframe tbody tr th {\n",
       "        vertical-align: top;\n",
       "    }\n",
       "\n",
       "    .dataframe thead th {\n",
       "        text-align: right;\n",
       "    }\n",
       "</style>\n",
       "<table border=\"1\" class=\"dataframe\">\n",
       "  <thead>\n",
       "    <tr style=\"text-align: right;\">\n",
       "      <th></th>\n",
       "      <th>x</th>\n",
       "      <th>y</th>\n",
       "      <th>index_vertice_cercano</th>\n",
       "    </tr>\n",
       "  </thead>\n",
       "  <tbody>\n",
       "    <tr>\n",
       "      <th>0</th>\n",
       "      <td>4.124433</td>\n",
       "      <td>-73.627487</td>\n",
       "      <td>33483</td>\n",
       "    </tr>\n",
       "    <tr>\n",
       "      <th>1</th>\n",
       "      <td>4.118694</td>\n",
       "      <td>-73.563922</td>\n",
       "      <td>37514</td>\n",
       "    </tr>\n",
       "    <tr>\n",
       "      <th>2</th>\n",
       "      <td>4.075202</td>\n",
       "      <td>-73.672954</td>\n",
       "      <td>52077</td>\n",
       "    </tr>\n",
       "    <tr>\n",
       "      <th>3</th>\n",
       "      <td>4.153048</td>\n",
       "      <td>-73.599674</td>\n",
       "      <td>11110</td>\n",
       "    </tr>\n",
       "    <tr>\n",
       "      <th>4</th>\n",
       "      <td>4.148361</td>\n",
       "      <td>-73.613292</td>\n",
       "      <td>14637</td>\n",
       "    </tr>\n",
       "    <tr>\n",
       "      <th>...</th>\n",
       "      <td>...</td>\n",
       "      <td>...</td>\n",
       "      <td>...</td>\n",
       "    </tr>\n",
       "    <tr>\n",
       "      <th>195</th>\n",
       "      <td>4.158273</td>\n",
       "      <td>-73.651119</td>\n",
       "      <td>7341</td>\n",
       "    </tr>\n",
       "    <tr>\n",
       "      <th>196</th>\n",
       "      <td>4.103017</td>\n",
       "      <td>-73.659508</td>\n",
       "      <td>45497</td>\n",
       "    </tr>\n",
       "    <tr>\n",
       "      <th>197</th>\n",
       "      <td>4.155809</td>\n",
       "      <td>-73.632643</td>\n",
       "      <td>8546</td>\n",
       "    </tr>\n",
       "    <tr>\n",
       "      <th>198</th>\n",
       "      <td>4.136147</td>\n",
       "      <td>-73.609554</td>\n",
       "      <td>23612</td>\n",
       "    </tr>\n",
       "    <tr>\n",
       "      <th>199</th>\n",
       "      <td>4.119560</td>\n",
       "      <td>-73.609358</td>\n",
       "      <td>37039</td>\n",
       "    </tr>\n",
       "  </tbody>\n",
       "</table>\n",
       "<p>200 rows × 3 columns</p>\n",
       "</div>"
      ],
      "text/plain": [
       "            x          y  index_vertice_cercano\n",
       "0    4.124433 -73.627487                  33483\n",
       "1    4.118694 -73.563922                  37514\n",
       "2    4.075202 -73.672954                  52077\n",
       "3    4.153048 -73.599674                  11110\n",
       "4    4.148361 -73.613292                  14637\n",
       "..        ...        ...                    ...\n",
       "195  4.158273 -73.651119                   7341\n",
       "196  4.103017 -73.659508                  45497\n",
       "197  4.155809 -73.632643                   8546\n",
       "198  4.136147 -73.609554                  23612\n",
       "199  4.119560 -73.609358                  37039\n",
       "\n",
       "[200 rows x 3 columns]"
      ]
     },
     "execution_count": 18,
     "metadata": {},
     "output_type": "execute_result"
    }
   ],
   "source": [
    "df_clusteres2"
   ]
  },
  {
   "cell_type": "code",
   "execution_count": 9,
   "id": "4134317a",
   "metadata": {},
   "outputs": [],
   "source": [
    "df_clusteres = pd.read_csv(\"clusteresF.csv\", delimiter=\",\")"
   ]
  },
  {
   "cell_type": "code",
   "execution_count": 5,
   "id": "85831472",
   "metadata": {},
   "outputs": [],
   "source": [
    "df_vertices = pd.read_csv(\"vertices.csv\", delimiter=\";\")"
   ]
  },
  {
   "cell_type": "code",
   "execution_count": 7,
   "id": "20048835",
   "metadata": {},
   "outputs": [],
   "source": [
    "df_vertices2 = df_vertices[['LATITUD', 'LONGITUD']].copy()"
   ]
  },
  {
   "cell_type": "code",
   "execution_count": 14,
   "id": "0616ef66",
   "metadata": {},
   "outputs": [],
   "source": [
    "df_clusteres2 = df_clusteres[['x', 'y']].copy()"
   ]
  },
  {
   "cell_type": "code",
   "execution_count": 15,
   "id": "c465d7b8",
   "metadata": {},
   "outputs": [],
   "source": [
    "tree = KDTree(df_vertices2)"
   ]
  },
  {
   "cell_type": "code",
   "execution_count": 17,
   "id": "79fe77d3",
   "metadata": {},
   "outputs": [
    {
     "name": "stdout",
     "output_type": "stream",
     "text": [
      "Wall time: 2.99 ms\n"
     ]
    }
   ],
   "source": [
    "%%time\n",
    "distancias, indices = tree.query(df_clusteres2, k=1)\n",
    "df_clusteres2['index_vertice_cercano'] = indices"
   ]
  },
  {
   "cell_type": "code",
   "execution_count": 24,
   "id": "8073ed4d",
   "metadata": {},
   "outputs": [
    {
     "data": {
      "text/html": [
       "<div>\n",
       "<style scoped>\n",
       "    .dataframe tbody tr th:only-of-type {\n",
       "        vertical-align: middle;\n",
       "    }\n",
       "\n",
       "    .dataframe tbody tr th {\n",
       "        vertical-align: top;\n",
       "    }\n",
       "\n",
       "    .dataframe thead th {\n",
       "        text-align: right;\n",
       "    }\n",
       "</style>\n",
       "<table border=\"1\" class=\"dataframe\">\n",
       "  <thead>\n",
       "    <tr style=\"text-align: right;\">\n",
       "      <th></th>\n",
       "      <th>x</th>\n",
       "      <th>y</th>\n",
       "      <th>index_vertice_cercano</th>\n",
       "      <th>LATITUD</th>\n",
       "      <th>LONGITUD</th>\n",
       "      <th>distancia_h</th>\n",
       "    </tr>\n",
       "  </thead>\n",
       "  <tbody>\n",
       "    <tr>\n",
       "      <th>0</th>\n",
       "      <td>4.124433</td>\n",
       "      <td>-73.627487</td>\n",
       "      <td>33483</td>\n",
       "      <td>4.124</td>\n",
       "      <td>-73.627545</td>\n",
       "      <td>0.048541</td>\n",
       "    </tr>\n",
       "    <tr>\n",
       "      <th>1</th>\n",
       "      <td>4.118694</td>\n",
       "      <td>-73.563922</td>\n",
       "      <td>37514</td>\n",
       "      <td>4.119</td>\n",
       "      <td>-73.563647</td>\n",
       "      <td>0.045658</td>\n",
       "    </tr>\n",
       "    <tr>\n",
       "      <th>2</th>\n",
       "      <td>4.075202</td>\n",
       "      <td>-73.672954</td>\n",
       "      <td>52077</td>\n",
       "      <td>4.075</td>\n",
       "      <td>-73.672891</td>\n",
       "      <td>0.023477</td>\n",
       "    </tr>\n",
       "    <tr>\n",
       "      <th>3</th>\n",
       "      <td>4.153048</td>\n",
       "      <td>-73.599674</td>\n",
       "      <td>11110</td>\n",
       "      <td>4.153</td>\n",
       "      <td>-73.599651</td>\n",
       "      <td>0.005913</td>\n",
       "    </tr>\n",
       "    <tr>\n",
       "      <th>4</th>\n",
       "      <td>4.148361</td>\n",
       "      <td>-73.613292</td>\n",
       "      <td>14637</td>\n",
       "      <td>4.148</td>\n",
       "      <td>-73.613417</td>\n",
       "      <td>0.042406</td>\n",
       "    </tr>\n",
       "    <tr>\n",
       "      <th>...</th>\n",
       "      <td>...</td>\n",
       "      <td>...</td>\n",
       "      <td>...</td>\n",
       "      <td>...</td>\n",
       "      <td>...</td>\n",
       "      <td>...</td>\n",
       "    </tr>\n",
       "    <tr>\n",
       "      <th>195</th>\n",
       "      <td>4.158273</td>\n",
       "      <td>-73.651119</td>\n",
       "      <td>7341</td>\n",
       "      <td>4.158</td>\n",
       "      <td>-73.651163</td>\n",
       "      <td>0.030774</td>\n",
       "    </tr>\n",
       "    <tr>\n",
       "      <th>196</th>\n",
       "      <td>4.103017</td>\n",
       "      <td>-73.659508</td>\n",
       "      <td>45497</td>\n",
       "      <td>4.103</td>\n",
       "      <td>-73.659841</td>\n",
       "      <td>0.036985</td>\n",
       "    </tr>\n",
       "    <tr>\n",
       "      <th>197</th>\n",
       "      <td>4.155809</td>\n",
       "      <td>-73.632643</td>\n",
       "      <td>8546</td>\n",
       "      <td>4.156</td>\n",
       "      <td>-73.632766</td>\n",
       "      <td>0.025231</td>\n",
       "    </tr>\n",
       "    <tr>\n",
       "      <th>198</th>\n",
       "      <td>4.136147</td>\n",
       "      <td>-73.609554</td>\n",
       "      <td>23612</td>\n",
       "      <td>4.136</td>\n",
       "      <td>-73.609601</td>\n",
       "      <td>0.017196</td>\n",
       "    </tr>\n",
       "    <tr>\n",
       "      <th>199</th>\n",
       "      <td>4.119560</td>\n",
       "      <td>-73.609358</td>\n",
       "      <td>37039</td>\n",
       "      <td>4.120</td>\n",
       "      <td>-73.609399</td>\n",
       "      <td>0.049086</td>\n",
       "    </tr>\n",
       "  </tbody>\n",
       "</table>\n",
       "<p>200 rows × 6 columns</p>\n",
       "</div>"
      ],
      "text/plain": [
       "            x          y  index_vertice_cercano  LATITUD   LONGITUD  \\\n",
       "0    4.124433 -73.627487                  33483    4.124 -73.627545   \n",
       "1    4.118694 -73.563922                  37514    4.119 -73.563647   \n",
       "2    4.075202 -73.672954                  52077    4.075 -73.672891   \n",
       "3    4.153048 -73.599674                  11110    4.153 -73.599651   \n",
       "4    4.148361 -73.613292                  14637    4.148 -73.613417   \n",
       "..        ...        ...                    ...      ...        ...   \n",
       "195  4.158273 -73.651119                   7341    4.158 -73.651163   \n",
       "196  4.103017 -73.659508                  45497    4.103 -73.659841   \n",
       "197  4.155809 -73.632643                   8546    4.156 -73.632766   \n",
       "198  4.136147 -73.609554                  23612    4.136 -73.609601   \n",
       "199  4.119560 -73.609358                  37039    4.120 -73.609399   \n",
       "\n",
       "     distancia_h  \n",
       "0       0.048541  \n",
       "1       0.045658  \n",
       "2       0.023477  \n",
       "3       0.005913  \n",
       "4       0.042406  \n",
       "..           ...  \n",
       "195     0.030774  \n",
       "196     0.036985  \n",
       "197     0.025231  \n",
       "198     0.017196  \n",
       "199     0.049086  \n",
       "\n",
       "[200 rows x 6 columns]"
      ]
     },
     "execution_count": 24,
     "metadata": {},
     "output_type": "execute_result"
    }
   ],
   "source": [
    "merged_dataframes"
   ]
  },
  {
   "cell_type": "code",
   "execution_count": 19,
   "id": "1709196b",
   "metadata": {},
   "outputs": [],
   "source": [
    "merged_dataframes = pd.merge(df_clusteres2, df_vertices2, left_on='index_vertice_cercano', right_index=True)"
   ]
  },
  {
   "cell_type": "code",
   "execution_count": 21,
   "id": "605e097f",
   "metadata": {},
   "outputs": [],
   "source": [
    "def haversine(row):\n",
    "    lon1 = row['y']\n",
    "    lat1 = row['x']\n",
    "    lon2 = row['LONGITUD']\n",
    "    lat2 = row['LATITUD']\n",
    "    lon1, lat1, lon2, lat2 = map(radians, [lon1, lat1, lon2, lat2])\n",
    "    dlon = lon2 - lon1 \n",
    "    dlat = lat2 - lat1 \n",
    "    a = sin(dlat/2)**2 + cos(lat1) * cos(lat2) * sin(dlon/2)**2\n",
    "    c = 2 * arcsin(sqrt(a)) \n",
    "    km = 6367 * c\n",
    "    return km"
   ]
  },
  {
   "cell_type": "code",
   "execution_count": 22,
   "id": "7a960a3f",
   "metadata": {},
   "outputs": [],
   "source": [
    "merged_dataframes['distancia_h'] = merged_dataframes.apply(lambda row: haversine(row), axis=1)"
   ]
  },
  {
   "cell_type": "code",
   "execution_count": 23,
   "id": "a41c24f7",
   "metadata": {},
   "outputs": [
    {
     "data": {
      "text/plain": [
       "count    200.000000\n",
       "mean       0.056871\n",
       "std        0.179300\n",
       "min        0.003008\n",
       "25%        0.017699\n",
       "50%        0.035098\n",
       "75%        0.046083\n",
       "max        1.937663\n",
       "Name: distancia_h, dtype: float64"
      ]
     },
     "execution_count": 23,
     "metadata": {},
     "output_type": "execute_result"
    }
   ],
   "source": [
    "merged_dataframes.distancia_h.describe()"
   ]
  },
  {
   "cell_type": "code",
   "execution_count": 25,
   "id": "715ba982",
   "metadata": {},
   "outputs": [],
   "source": [
    "merged_dataframes.to_csv(\"Clusters+vert_cercanos.csv\",index=True)"
   ]
  }
 ],
 "metadata": {
  "kernelspec": {
   "display_name": "Python 3",
   "language": "python",
   "name": "python3"
  },
  "language_info": {
   "codemirror_mode": {
    "name": "ipython",
    "version": 3
   },
   "file_extension": ".py",
   "mimetype": "text/x-python",
   "name": "python",
   "nbconvert_exporter": "python",
   "pygments_lexer": "ipython3",
   "version": "3.8.8"
  }
 },
 "nbformat": 4,
 "nbformat_minor": 5
}
