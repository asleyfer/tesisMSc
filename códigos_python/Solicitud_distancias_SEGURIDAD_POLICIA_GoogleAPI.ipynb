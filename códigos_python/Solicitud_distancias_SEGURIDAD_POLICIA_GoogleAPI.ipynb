{
 "cells": [
  {
   "cell_type": "code",
   "execution_count": 1,
   "id": "f1ba01ce",
   "metadata": {},
   "outputs": [],
   "source": [
    "import pandas as pd\n",
    "import numpy as np\n",
    "import requests\n",
    "import json\n",
    "import pandas as pd\n",
    "from itertools import tee"
   ]
  },
  {
   "cell_type": "code",
   "execution_count": 2,
   "id": "6421aab6",
   "metadata": {},
   "outputs": [],
   "source": [
    "df = pd.read_csv(\"Clusters+vert_cercanos.csv\", delimiter=\",\")"
   ]
  },
  {
   "cell_type": "code",
   "execution_count": 3,
   "id": "5a538e58",
   "metadata": {},
   "outputs": [],
   "source": [
    "df_seguridad_policia = pd.read_csv(\"seguridad_policia_oficiales.csv\", delimiter=\";\")"
   ]
  },
  {
   "cell_type": "code",
   "execution_count": 5,
   "id": "5e0f2a1a",
   "metadata": {},
   "outputs": [
    {
     "data": {
      "text/html": [
       "<div>\n",
       "<style scoped>\n",
       "    .dataframe tbody tr th:only-of-type {\n",
       "        vertical-align: middle;\n",
       "    }\n",
       "\n",
       "    .dataframe tbody tr th {\n",
       "        vertical-align: top;\n",
       "    }\n",
       "\n",
       "    .dataframe thead th {\n",
       "        text-align: right;\n",
       "    }\n",
       "</style>\n",
       "<table border=\"1\" class=\"dataframe\">\n",
       "  <thead>\n",
       "    <tr style=\"text-align: right;\">\n",
       "      <th></th>\n",
       "      <th>Id</th>\n",
       "      <th>Latitud_seguridad_policia</th>\n",
       "      <th>Longitud_seguridad_policia</th>\n",
       "    </tr>\n",
       "  </thead>\n",
       "  <tbody>\n",
       "    <tr>\n",
       "      <th>0</th>\n",
       "      <td>1</td>\n",
       "      <td>4.167179</td>\n",
       "      <td>-73.623657</td>\n",
       "    </tr>\n",
       "    <tr>\n",
       "      <th>1</th>\n",
       "      <td>2</td>\n",
       "      <td>4.123192</td>\n",
       "      <td>-73.577690</td>\n",
       "    </tr>\n",
       "    <tr>\n",
       "      <th>2</th>\n",
       "      <td>3</td>\n",
       "      <td>4.148795</td>\n",
       "      <td>-73.634969</td>\n",
       "    </tr>\n",
       "    <tr>\n",
       "      <th>3</th>\n",
       "      <td>4</td>\n",
       "      <td>4.077741</td>\n",
       "      <td>-73.670454</td>\n",
       "    </tr>\n",
       "    <tr>\n",
       "      <th>4</th>\n",
       "      <td>5</td>\n",
       "      <td>4.058403</td>\n",
       "      <td>-73.672695</td>\n",
       "    </tr>\n",
       "    <tr>\n",
       "      <th>5</th>\n",
       "      <td>6</td>\n",
       "      <td>4.156303</td>\n",
       "      <td>-73.631032</td>\n",
       "    </tr>\n",
       "    <tr>\n",
       "      <th>6</th>\n",
       "      <td>7</td>\n",
       "      <td>4.121043</td>\n",
       "      <td>-73.642440</td>\n",
       "    </tr>\n",
       "    <tr>\n",
       "      <th>7</th>\n",
       "      <td>8</td>\n",
       "      <td>4.122414</td>\n",
       "      <td>-73.632141</td>\n",
       "    </tr>\n",
       "    <tr>\n",
       "      <th>8</th>\n",
       "      <td>9</td>\n",
       "      <td>4.165158</td>\n",
       "      <td>-73.641056</td>\n",
       "    </tr>\n",
       "    <tr>\n",
       "      <th>9</th>\n",
       "      <td>10</td>\n",
       "      <td>4.136793</td>\n",
       "      <td>-73.645865</td>\n",
       "    </tr>\n",
       "    <tr>\n",
       "      <th>10</th>\n",
       "      <td>11</td>\n",
       "      <td>4.121857</td>\n",
       "      <td>-73.533173</td>\n",
       "    </tr>\n",
       "    <tr>\n",
       "      <th>11</th>\n",
       "      <td>12</td>\n",
       "      <td>4.142797</td>\n",
       "      <td>-73.641897</td>\n",
       "    </tr>\n",
       "    <tr>\n",
       "      <th>12</th>\n",
       "      <td>13</td>\n",
       "      <td>4.140720</td>\n",
       "      <td>-73.618162</td>\n",
       "    </tr>\n",
       "  </tbody>\n",
       "</table>\n",
       "</div>"
      ],
      "text/plain": [
       "    Id  Latitud_seguridad_policia  Longitud_seguridad_policia\n",
       "0    1                   4.167179                  -73.623657\n",
       "1    2                   4.123192                  -73.577690\n",
       "2    3                   4.148795                  -73.634969\n",
       "3    4                   4.077741                  -73.670454\n",
       "4    5                   4.058403                  -73.672695\n",
       "5    6                   4.156303                  -73.631032\n",
       "6    7                   4.121043                  -73.642440\n",
       "7    8                   4.122414                  -73.632141\n",
       "8    9                   4.165158                  -73.641056\n",
       "9   10                   4.136793                  -73.645865\n",
       "10  11                   4.121857                  -73.533173\n",
       "11  12                   4.142797                  -73.641897\n",
       "12  13                   4.140720                  -73.618162"
      ]
     },
     "execution_count": 5,
     "metadata": {},
     "output_type": "execute_result"
    }
   ],
   "source": [
    "df_seguridad_policia"
   ]
  },
  {
   "cell_type": "code",
   "execution_count": 7,
   "id": "33d8be13",
   "metadata": {},
   "outputs": [],
   "source": [
    "array_id=df_seguridad_policia.Id.values"
   ]
  },
  {
   "cell_type": "code",
   "execution_count": 8,
   "id": "d6750d47",
   "metadata": {},
   "outputs": [],
   "source": [
    "df2=df.copy(deep=True)"
   ]
  },
  {
   "cell_type": "code",
   "execution_count": 9,
   "id": "257c039a",
   "metadata": {},
   "outputs": [],
   "source": [
    "for col_name in array_id:\n",
    "    df2[col_name] = None"
   ]
  },
  {
   "cell_type": "code",
   "execution_count": 2,
   "id": "3fbda3a5",
   "metadata": {},
   "outputs": [],
   "source": [
    "#Se quita por motivos de seguridad\n",
    "key_API_google=\"\""
   ]
  },
  {
   "cell_type": "code",
   "execution_count": 34,
   "id": "46d482c6",
   "metadata": {},
   "outputs": [],
   "source": [
    "#aca origenes son destinos y destinos son origenes por que estamos midiendo cuanto se demora la policia en llegar allá"
   ]
  },
  {
   "cell_type": "code",
   "execution_count": 20,
   "id": "1ac1c3aa",
   "metadata": {},
   "outputs": [],
   "source": [
    "origenes = [row['Latitud_seguridad_policia'].astype(str)+\"%2C\"+row['Longitud_seguridad_policia'].astype(str) for index, row in df_seguridad_policia.iterrows()]"
   ]
  },
  {
   "cell_type": "code",
   "execution_count": 21,
   "id": "9bc23705",
   "metadata": {},
   "outputs": [],
   "source": [
    "destinos = [row['LATITUD'].astype(str)+\"%2C\"+row['LONGITUD'].astype(str) for index, row in df.iterrows()]"
   ]
  },
  {
   "cell_type": "code",
   "execution_count": 22,
   "id": "9226c588",
   "metadata": {},
   "outputs": [],
   "source": [
    "todas_solicitudes=[]\n",
    "for i in range(len(origenes)):\n",
    "    solicitudes=[]\n",
    "    for j in range(len(destinos)):\n",
    "        solicitud=\"https://maps.googleapis.com/maps/api/distancematrix/json?destinations=\"+destinos[j]+\"&origins=\"+origenes[i]+\"&key=\"+key_API_google\n",
    "        solicitudes.append(solicitud)\n",
    "    todas_solicitudes.append(solicitudes)"
   ]
  },
  {
   "cell_type": "code",
   "execution_count": 23,
   "id": "950a9278",
   "metadata": {},
   "outputs": [],
   "source": [
    "todas_solicitudes2 = pd.DataFrame(todas_solicitudes)"
   ]
  },
  {
   "cell_type": "code",
   "execution_count": 18,
   "id": "aea68791",
   "metadata": {},
   "outputs": [],
   "source": [
    "def solicitud_maps(url):\n",
    "    try:\n",
    "        payload = {}\n",
    "        headers = {}\n",
    "        response = requests.request(\"GET\", url, headers=headers, data=payload)\n",
    "        x = response.json()\n",
    "        drive_time_seconds = x['rows'][0]['elements'][0]['duration']['value']\n",
    "        distance_meters = x['rows'][0]['elements'][0]['distance']['value']\n",
    "        return [drive_time_seconds, distance_meters]\n",
    "    except KeyError:\n",
    "        return 0"
   ]
  },
  {
   "cell_type": "code",
   "execution_count": 26,
   "id": "41005a09",
   "metadata": {},
   "outputs": [],
   "source": [
    "transposed_todas_solicitudes2 = todas_solicitudes2.transpose()"
   ]
  },
  {
   "cell_type": "code",
   "execution_count": 28,
   "id": "6f0209dd",
   "metadata": {},
   "outputs": [],
   "source": [
    "df2[1] = transposed_todas_solicitudes2.apply(lambda x: solicitud_maps(x[0]), axis=1)\n"
   ]
  },
  {
   "cell_type": "code",
   "execution_count": 30,
   "id": "2cf5e349",
   "metadata": {},
   "outputs": [],
   "source": [
    "df2[2] = transposed_todas_solicitudes2.apply(lambda x: solicitud_maps(x[1]), axis=1)\n",
    "df2[3] = transposed_todas_solicitudes2.apply(lambda x: solicitud_maps(x[2]), axis=1)\n",
    "df2[4] = transposed_todas_solicitudes2.apply(lambda x: solicitud_maps(x[3]), axis=1)\n",
    "df2[5] = transposed_todas_solicitudes2.apply(lambda x: solicitud_maps(x[4]), axis=1)\n",
    "df2[6] = transposed_todas_solicitudes2.apply(lambda x: solicitud_maps(x[5]), axis=1)\n",
    "df2[7] = transposed_todas_solicitudes2.apply(lambda x: solicitud_maps(x[6]), axis=1)\n",
    "df2[8] = transposed_todas_solicitudes2.apply(lambda x: solicitud_maps(x[7]), axis=1)\n",
    "df2[9] = transposed_todas_solicitudes2.apply(lambda x: solicitud_maps(x[8]), axis=1)\n",
    "df2[10] = transposed_todas_solicitudes2.apply(lambda x: solicitud_maps(x[9]), axis=1)\n",
    "df2[11] = transposed_todas_solicitudes2.apply(lambda x: solicitud_maps(x[10]), axis=1)\n",
    "df2[12] = transposed_todas_solicitudes2.apply(lambda x: solicitud_maps(x[11]), axis=1)\n",
    "df2[13] = transposed_todas_solicitudes2.apply(lambda x: solicitud_maps(x[12]), axis=1)"
   ]
  },
  {
   "cell_type": "code",
   "execution_count": 32,
   "id": "e7904e5b",
   "metadata": {},
   "outputs": [],
   "source": [
    "df3=df2.copy(deep=True)\n",
    "df3 = df3.drop(array_id, axis=1)\n",
    "for col in array_id:\n",
    "    df3[col] = df2[col].apply(lambda x: x[0])\n",
    "\n",
    "df3.to_csv(\"TIEMPOS_VIAJE_SEG_CLUSTERS_SEGURIDAD_POLICIA.csv\",index=True)"
   ]
  },
  {
   "cell_type": "code",
   "execution_count": 33,
   "id": "e684e356",
   "metadata": {},
   "outputs": [],
   "source": [
    "df4=df2.copy(deep=True)\n",
    "df4 = df4.drop(array_id, axis=1)\n",
    "for col in array_id:\n",
    "    df4[col] = df2[col].apply(lambda x: x[1])\n",
    "    \n",
    "df4.to_csv(\"DISTANCIAS_METROS_CLUSTERS_SEGURIDAD_POLICIA.csv\",index=True)"
   ]
  }
 ],
 "metadata": {
  "kernelspec": {
   "display_name": "Python 3",
   "language": "python",
   "name": "python3"
  },
  "language_info": {
   "codemirror_mode": {
    "name": "ipython",
    "version": 3
   },
   "file_extension": ".py",
   "mimetype": "text/x-python",
   "name": "python",
   "nbconvert_exporter": "python",
   "pygments_lexer": "ipython3",
   "version": "3.8.8"
  }
 },
 "nbformat": 4,
 "nbformat_minor": 5
}
